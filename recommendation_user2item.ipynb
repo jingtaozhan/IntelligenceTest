{
 "cells": [
  {
   "cell_type": "code",
   "execution_count": 1,
   "id": "e1420292",
   "metadata": {},
   "outputs": [],
   "source": [
    "import os\n",
    "import math\n",
    "import numpy as np\n",
    "import pandas as pd\n",
    "import logging\n",
    "from tqdm import tqdm\n",
    "from matplotlib import pyplot as plt\n",
    "import requests\n",
    "import zipfile\n",
    "import subprocess\n",
    "import gzip\n",
    "import shutil\n",
    "import json"
   ]
  },
  {
   "cell_type": "code",
   "execution_count": 2,
   "id": "abac04fc",
   "metadata": {},
   "outputs": [],
   "source": [
    "logger = logging.getLogger(__name__)\n",
    "logging.basicConfig(\n",
    "    format=\"%(message)s\",\n",
    "    level=logging.INFO\n",
    ")"
   ]
  },
  {
   "cell_type": "markdown",
   "id": "37aa83a9",
   "metadata": {},
   "source": [
    "# Data Processing"
   ]
  },
  {
   "cell_type": "code",
   "execution_count": 3,
   "id": "614e3bde",
   "metadata": {},
   "outputs": [],
   "source": [
    "# take Amazon Beauty as an example\n",
    "DATASET = 'amazon_beauty' \n",
    "RAW_PATH = os.path.join('./', DATASET)"
   ]
  },
  {
   "cell_type": "code",
   "execution_count": 4,
   "id": "b4d1c5d1",
   "metadata": {
    "scrolled": true
   },
   "outputs": [
    {
     "name": "stderr",
     "output_type": "stream",
     "text": [
      "Downloading data into ./amazon_beauty\n",
      "Unzip files...\n"
     ]
    }
   ],
   "source": [
    "# download data if not exists\n",
    "if not os.path.exists(RAW_PATH):\n",
    "    subprocess.call('mkdir ' + RAW_PATH, shell=True)\n",
    "if not os.path.exists(os.path.join(RAW_PATH, DATASET + '.zip')):\n",
    "    logging.info('Downloading data into ' + RAW_PATH)\n",
    "    subprocess.call(\n",
    "        'cd {} && curl -O https://snap.stanford.edu/data/amazon/productGraph/categoryFiles/reviews_Beauty_5.json.gz'\n",
    "        .format(RAW_PATH, DATASET), shell=True)\n",
    "    logging.info('Unzip files...')\n",
    "    with gzip.open(os.path.join(RAW_PATH, 'reviews_Beauty_5.json.gz'), 'rb') as f_in:\n",
    "            with open(os.path.join(RAW_PATH, 'reviews_Beauty_5.json'), 'wb') as f_out:\n",
    "                shutil.copyfileobj(f_in, f_out)\n",
    "    "
   ]
  },
  {
   "cell_type": "code",
   "execution_count": 5,
   "id": "38bd2958",
   "metadata": {
    "scrolled": true
   },
   "outputs": [
    {
     "name": "stderr",
     "output_type": "stream",
     "text": [
      "198502it [00:01, 110722.66it/s]\n",
      "Positive interaction: 176520\n"
     ]
    }
   ],
   "source": [
    "interactions = [] # user_id, item_id, rating, time\n",
    "with open(os.path.join(RAW_PATH, 'reviews_Beauty_5.json')) as F:\n",
    "    for line in tqdm(F):\n",
    "        review = json.loads(line)\n",
    "        info =[review['reviewerID'],review['asin'],review['overall'],review['unixReviewTime']]\n",
    "        interactions.append(info)\n",
    "pos_interactions = [info for info in interactions if info[-2]>=3]\n",
    "logging.info(\"Positive interaction: %d\"%(len(pos_interactions)))"
   ]
  },
  {
   "cell_type": "code",
   "execution_count": 6,
   "id": "eee1a87f",
   "metadata": {},
   "outputs": [
    {
     "name": "stderr",
     "output_type": "stream",
     "text": [
      "Core interactions: 175646\n"
     ]
    }
   ],
   "source": [
    "# 3-times filter, one time\n",
    "cold_user, cold_item = 10,10\n",
    "exclude_user, exclude_item = set(),set()\n",
    "user_cnt, item_cnt = dict(),dict()\n",
    "for inter in pos_interactions:\n",
    "    user_cnt[inter[0]] = user_cnt.get(inter[0],0)+1\n",
    "    item_cnt[inter[1]] = item_cnt.get(inter[1],0)+1\n",
    "exclude_user = set([u for u in user_cnt if user_cnt[u]<3])\n",
    "exclude_item = set([i for i in item_cnt if item_cnt[i]<3])\n",
    "core_interactions = [info for info in pos_interactions if \n",
    "                     info[0] not in exclude_user and info[1] not in exclude_item]\n",
    "logging.info(\"Core interactions: %d\"%(len(core_interactions)))"
   ]
  },
  {
   "cell_type": "code",
   "execution_count": 7,
   "id": "39c7c59f",
   "metadata": {},
   "outputs": [
    {
     "name": "stderr",
     "output_type": "stream",
     "text": [
      "Training set: 131780, Validation set: 21933, Test set: 21933\n",
      "#User=21934, #Item=12014\n"
     ]
    }
   ],
   "source": [
    "# split dataset: leave-one-out\n",
    "core_inter = pd.DataFrame(core_interactions, columns = ['user_name','item_name','rating','timestamp']).sort_values(by='timestamp')\n",
    "user2id = dict(zip(sorted(core_inter.user_name.unique()), range(1,core_inter.user_name.nunique()+1)))\n",
    "item2id = dict(zip(sorted(core_inter.item_name.unique()), range(1,core_inter.item_name.nunique()+1)))\n",
    "core_inter['user_id'] = core_inter.user_name.apply(lambda x: user2id[x])\n",
    "core_inter['item_id'] = core_inter.item_name.apply(lambda x: item2id[x])\n",
    "\n",
    "user_cnt = core_inter.user_id.value_counts().reset_index()\n",
    "user_cnt.columns = ['user_id','inter_num']\n",
    "dev_users = user_cnt.loc[user_cnt.inter_num>2].user_id\n",
    "test = core_inter.groupby('user_id').tail(1)\n",
    "test = test.loc[test.user_id.isin(dev_users)]\n",
    "dev = core_inter.groupby('user_id').tail(2).groupby('user_id').head(1)\n",
    "dev = dev.loc[dev.user_id.isin(dev_users)]\n",
    "testdev_idx = test.index.to_list() + dev.index.to_list()\n",
    "train = core_inter[~core_inter.index.isin(testdev_idx)]\n",
    "logging.info(\"Training set: %d, Validation set: %d, Test set: %d\"%(train.shape[0],dev.shape[0],test.shape[0]))\n",
    "logging.info(\"#User=%d, #Item=%d\"%(core_inter.user_id.nunique(),core_inter.item_id.nunique()))"
   ]
  },
  {
   "cell_type": "code",
   "execution_count": 8,
   "id": "f1191dd2",
   "metadata": {},
   "outputs": [],
   "source": [
    "# save dataset\n",
    "train.to_csv(os.path.join(RAW_PATH,'train.csv'),index=False)\n",
    "dev.to_csv(os.path.join(RAW_PATH,'dev.csv'),index=False)\n",
    "test.to_csv(os.path.join(RAW_PATH,'test.csv'),index=False)"
   ]
  },
  {
   "cell_type": "markdown",
   "id": "198638de",
   "metadata": {},
   "source": [
    "# Recommender Implementation"
   ]
  },
  {
   "cell_type": "code",
   "execution_count": 9,
   "id": "e313cb1c",
   "metadata": {},
   "outputs": [],
   "source": [
    "import torch\n",
    "from torch import nn\n",
    "from torch.utils.data import Dataset\n",
    "from torch.utils.data import DataLoader\n",
    "import torch.nn.functional as F\n",
    "from torch.nn.utils.rnn import pad_sequence\n",
    "import gc"
   ]
  },
  {
   "cell_type": "code",
   "execution_count": 10,
   "id": "c1e4d017",
   "metadata": {},
   "outputs": [],
   "source": [
    "def batch_to_gpu(batch, device):\n",
    "    for c in batch:\n",
    "        if type(batch[c]) is torch.Tensor:\n",
    "            batch[c] = batch[c].to(device)\n",
    "    return batch\n",
    "\n",
    "def _append_history_info(data_df):\n",
    "    \"\"\"\n",
    "    user_his: store user history sequence [(i1,t1), (i1,t2), ...]\n",
    "    add the 'position' of each interaction in user_his to data_df\n",
    "    \"\"\"\n",
    "    logging.info('Appending history info...')\n",
    "    all_df = pd.concat([data_df[key] for key in data_df])\n",
    "    sort_df = all_df.sort_values(by=['timestamp', 'user_id'], kind='mergesort')\n",
    "    position = list()\n",
    "    user_his = dict()  # store the already seen sequence of each user\n",
    "    for uid, iid, t in zip(sort_df['user_id'], sort_df['item_id'], sort_df['timestamp']):\n",
    "        if uid not in user_his:\n",
    "            user_his[uid] = list()\n",
    "        position.append(len(user_his[uid]))\n",
    "        user_his[uid].append((iid, t))\n",
    "    sort_df['position'] = position\n",
    "    for key in data_df:\n",
    "        data_df[key] = pd.merge(left=data_df[key], right=sort_df, how='left',on=['user_id', 'item_id', 'timestamp'])\n",
    "    return data_df, user_his\n",
    "\n",
    "def check_dir(file_name: str):\n",
    "    dir_path = os.path.dirname(file_name)\n",
    "    if not os.path.exists(dir_path):\n",
    "        print('make dirs:', dir_path)\n",
    "        os.makedirs(dir_path)\n",
    "\n",
    "def _build_optimizer(model,optimizer_name=\"Adam\", learning_rate=0.001, l2=0):\n",
    "    logging.info('Optimizer: ' + optimizer_name)\n",
    "    optimizer = eval('torch.optim.{}'.format(optimizer_name))(\n",
    "        model.customize_parameters(), lr=learning_rate, weight_decay=l2)\n",
    "    return optimizer"
   ]
  },
  {
   "cell_type": "code",
   "execution_count": 11,
   "id": "0b0beb9e",
   "metadata": {},
   "outputs": [],
   "source": [
    "# Here we show GRU4Rec as an example. It can be replaced by any existing recommender.\n",
    "class GRU4Rec(nn.Module):\n",
    "    @staticmethod\n",
    "    def init_weights(m):\n",
    "        if 'Linear' in str(type(m)):\n",
    "            nn.init.normal_(m.weight, mean=0.0, std=0.01)\n",
    "            if m.bias is not None:\n",
    "                nn.init.normal_(m.bias, mean=0.0, std=0.01)\n",
    "        elif 'Embedding' in str(type(m)):\n",
    "            nn.init.normal_(m.weight, mean=0.0, std=0.01)\n",
    "            \n",
    "    def __init__(self, n_items, emb_size=64, hidden_size=64,model_path = \"\",device=torch.device('cuda')):\n",
    "        super().__init__()\n",
    "        self.item_num = n_items\n",
    "        self.emb_size = emb_size\n",
    "        self.hidden_size = hidden_size\n",
    "        self.model_path = model_path\n",
    "        if not len(self.model_path):\n",
    "            self.model_path = \"Default_model.pt\"\n",
    "        self.device = device\n",
    "        self.optimizer = None\n",
    "        self._define_params()\n",
    "        self.apply(self.init_weights)\n",
    "\n",
    "    def _define_params(self):\n",
    "        self.i_embeddings = nn.Embedding(self.item_num, self.emb_size)\n",
    "        self.rnn = nn.GRU(input_size=self.emb_size, hidden_size=self.hidden_size, batch_first=True)\n",
    "        self.out = nn.Linear(self.hidden_size, self.emb_size)\n",
    "\n",
    "    def forward(self, feed_dict):\n",
    "        i_ids = feed_dict['item_id']  # [batch_size, -1]\n",
    "        history = feed_dict['history_items']  # [batch_size, history_max]\n",
    "        lengths = feed_dict['lengths']  # [batch_size]\n",
    "        his_vectors = self.i_embeddings(history)\n",
    "        # Sort and Pack\n",
    "        sort_his_lengths, sort_idx = torch.topk(lengths, k=len(lengths))\n",
    "        sort_his_vectors = his_vectors.index_select(dim=0, index=sort_idx)\n",
    "        history_packed = torch.nn.utils.rnn.pack_padded_sequence(\n",
    "            sort_his_vectors, sort_his_lengths.cpu(), batch_first=True)\n",
    "        # RNN\n",
    "        output, hidden = self.rnn(history_packed, None)\n",
    "        # Unsort\n",
    "        unsort_idx = torch.topk(sort_idx, k=len(lengths), largest=False)[1]\n",
    "        rnn_vector = hidden[-1].index_select(dim=0, index=unsort_idx)\n",
    "        # Predicts\n",
    "        pred_vectors = self.i_embeddings(i_ids)\n",
    "        rnn_vector = self.out(rnn_vector)\n",
    "        prediction = (rnn_vector[:, None, :] * pred_vectors).sum(-1)\n",
    "        return {'prediction': prediction.view(feed_dict['batch_size'], -1)}\n",
    "    \n",
    "    def save_model(self, model_path=None):\n",
    "        if model_path is None:\n",
    "            model_path = self.model_path\n",
    "        check_dir(model_path)\n",
    "        torch.save(self.state_dict(), model_path)\n",
    "\n",
    "    def load_model(self, model_path=None):\n",
    "        if model_path is None:\n",
    "            model_path = self.model_path\n",
    "        self.load_state_dict(torch.load(model_path))\n",
    "        logging.info('Load model from ' + model_path)\n",
    "\n",
    "    def customize_parameters(self) -> list:\n",
    "        # customize optimizer settings for different parameters\n",
    "        weight_p, bias_p = [], []\n",
    "        for name, p in filter(lambda x: x[1].requires_grad, self.named_parameters()):\n",
    "            if 'bias' in name:\n",
    "                bias_p.append(p)\n",
    "            else:\n",
    "                weight_p.append(p)\n",
    "        optimize_dict = [{'params': weight_p}, {'params': bias_p, 'weight_decay': 0}]\n",
    "        return optimize_dict\n",
    "\n",
    "# Dataset Class\n",
    "class RecDataset(Dataset):\n",
    "    def __init__(self, data_df, n_items, test_all=True, user_his=dict(), phase='test', \n",
    "                 history_max=20, clicked_set=()):\n",
    "        self.phase = phase  # train / dev / test\n",
    "        self.n_items = n_items\n",
    "        self.test_all = test_all # evaluate on the ranking of all items\n",
    "        self.user_his = user_his\n",
    "        self.history_max = history_max\n",
    "        self.clicked_set = clicked_set\n",
    "        self.data = data_df.to_dict('list')\n",
    "        idx_select = np.array(self.data['position']) > 0  # history length must be non-zero\n",
    "        for key in self.data:\n",
    "            self.data[key] = np.array(self.data[key],dtype=object)[idx_select].tolist()\n",
    " \n",
    "    def __len__(self):\n",
    "        if type(self.data) == dict:\n",
    "            for key in self.data:\n",
    "                return len(self.data[key])\n",
    "        return len(self.data)\n",
    "\n",
    "    def __getitem__(self, index: int) -> dict:\n",
    "        return self._get_feed_dict(index)\n",
    "\n",
    "    # get a sample\n",
    "    def _get_feed_dict(self, index: int) -> dict:\n",
    "        user_id, target_item = self.data['user_id'][index], self.data['item_id'][index]\n",
    "        if self.phase != 'train' and self.test_all:\n",
    "            neg_items = np.arange(1, self.n_items) # test on all items\n",
    "        else:\n",
    "            neg_items = self.data['neg_items'][index]\n",
    "        item_ids = np.concatenate([[target_item], neg_items]).astype(int)\n",
    "        feed_dict = {'user_id': user_id,'item_id': item_ids}\n",
    "        pos = self.data['position'][index]\n",
    "        user_seq = self.user_his[feed_dict['user_id']][:pos]\n",
    "        if self.history_max > 0:\n",
    "            user_seq = user_seq[-self.history_max:]\n",
    "        feed_dict['history_items'] = np.array([x[0] for x in user_seq])\n",
    "        feed_dict['lengths'] = len(feed_dict['history_items'])\n",
    "        return feed_dict\n",
    "\n",
    "    def actions_before_epoch(self):\n",
    "        # negative sampling for training\n",
    "        neg_items = np.random.randint(1, self.n_items, size=(len(self), 1))\n",
    "        for i, u in enumerate(self.data['user_id']):\n",
    "            clicked_set = self.clicked_set[u]  # neg items are possible to appear in dev/test set\n",
    "            while neg_items[i][0] in clicked_set:\n",
    "                neg_items[i][0] = np.random.randint(1, self.n_items)\n",
    "        self.data['neg_items'] = neg_items\n",
    "    \n",
    "    # Collate a batch according to the list of feed dicts\n",
    "    def collate_batch(self, feed_dicts) -> dict:\n",
    "        feed_dict = dict()\n",
    "        for key in feed_dicts[0]:\n",
    "            if isinstance(feed_dicts[0][key], np.ndarray):\n",
    "                tmp_list = [len(d[key]) for d in feed_dicts]\n",
    "                if any([tmp_list[0] != l for l in tmp_list]):\n",
    "                    stack_val = np.array([d[key] for d in feed_dicts], dtype=np.object)\n",
    "                else:\n",
    "                    stack_val = np.array([d[key] for d in feed_dicts])\n",
    "            else:\n",
    "                stack_val = np.array([d[key] for d in feed_dicts])\n",
    "            if stack_val.dtype == np.object:  # inconsistent length (e.g., history)\n",
    "                feed_dict[key] = pad_sequence([torch.from_numpy(x) for x in stack_val], batch_first=True)\n",
    "            else:\n",
    "                feed_dict[key] = torch.from_numpy(stack_val)\n",
    "        feed_dict['batch_size'] = len(feed_dicts)\n",
    "        feed_dict['phase'] = self.phase\n",
    "        return feed_dict"
   ]
  },
  {
   "cell_type": "code",
   "execution_count": 12,
   "id": "659ef657",
   "metadata": {},
   "outputs": [],
   "source": [
    "# define basic params for model training & evaluation\n",
    "device = torch.device('cuda')\n",
    "n_items = core_inter.item_id.max()+1\n",
    "batch_size = 64\n",
    "EPOCH = 100\n",
    "EARLY_STOP = 10\n",
    "MAIN_METRIC='HR@100'"
   ]
  },
  {
   "cell_type": "code",
   "execution_count": 13,
   "id": "4cd74814",
   "metadata": {},
   "outputs": [],
   "source": [
    "# Model training & Evaluation functions\n",
    "def BPR_loss(out_dict):\n",
    "    predictions = out_dict['prediction']\n",
    "    pos_pred, neg_pred = predictions[:, 0], predictions[:, 1:]\n",
    "    neg_softmax = (neg_pred - neg_pred.max()).softmax(dim=1)\n",
    "    loss = -(((pos_pred[:, None] - neg_pred).sigmoid() * neg_softmax).sum(dim=1)).clamp(min=1e-8,max=1-1e-8).log().mean()\n",
    "    return loss\n",
    "\n",
    "def rec_fit(Recommender, dataset, loss_fn, epoch):\n",
    "    dataset.actions_before_epoch()  # must sample before multi thread start\n",
    "    Recommender.train()\n",
    "    if Recommender.optimizer is None:\n",
    "        Recommender.optimizer = _build_optimizer(Recommender)\n",
    "    loss_lst = list()\n",
    "    dl = DataLoader(dataset, batch_size=batch_size, shuffle=True,collate_fn=dataset.collate_batch)\n",
    "    for batch in tqdm(dl, desc='Epoch {:<3}'.format(epoch), ncols=100, position=0,leave=True):\n",
    "        batch = batch_to_gpu(batch, Recommender.device)\n",
    "        Recommender.optimizer.zero_grad()\n",
    "        out_dict = Recommender(batch)\n",
    "        loss = loss_fn(out_dict)\n",
    "        loss.backward()\n",
    "        Recommender.optimizer.step()\n",
    "        loss_lst.append(loss.detach().cpu().data.numpy())\n",
    "    return np.mean(loss_lst).item()\n",
    "\n",
    "def rec_evaluate(Recommender, dataset, metric):\n",
    "    Recommender.eval()\n",
    "    dl = DataLoader(dataset, batch_size=batch_size, shuffle=False, collate_fn=dataset.collate_batch)\n",
    "    evaluations = list()\n",
    "    for batch in tqdm(dl, desc='Predict',ncols=100, position=0,leave=True):\n",
    "        predictions = Recommender(batch_to_gpu(batch, device))['prediction']\n",
    "        predictions = predictions.cpu().data.numpy()\n",
    "        # exclude interacted items\n",
    "        rows, cols = list(), list()\n",
    "        for i, u in enumerate(batch['user_id'].cpu().data.numpy()):\n",
    "            clicked_items = list(clicked_set[u])\n",
    "            idx = list(np.ones_like(clicked_items) * i)\n",
    "            rows.extend(idx)\n",
    "            cols.extend(clicked_items)\n",
    "        predictions[rows, cols] = -np.inf\n",
    "        if 'HR' in metric:\n",
    "            topk = int(metric.split(\"@\")[-1])\n",
    "            evaluations.extend((predictions>predictions[:,:1]).sum(axis=-1)<topk)\n",
    "        elif metric == 'ranking':\n",
    "            evaluations.extend((predictions>predictions[:,:1]).sum(axis=-1))\n",
    "    evaluations = np.array(evaluations)   \n",
    "    return evaluations"
   ]
  },
  {
   "cell_type": "code",
   "execution_count": 14,
   "id": "615f0e93",
   "metadata": {
    "scrolled": false
   },
   "outputs": [
    {
     "name": "stderr",
     "output_type": "stream",
     "text": [
      "Appending history info...\n"
     ]
    }
   ],
   "source": [
    "# record all items the user has clicked\n",
    "clicked_set = dict()\n",
    "train_clicked_set = dict()\n",
    "for phase, df in enumerate([train,dev,test]):\n",
    "    for u,i in zip(df.user_id, df.item_id):\n",
    "        clicked_set.setdefault(u, set()).add(i)\n",
    "        if phase == 0:\n",
    "            train_clicked_set.setdefault(u,set()).add(i)\n",
    "\n",
    "# construct dataset\n",
    "data_df = {'train':train,'dev':dev,'test':test}\n",
    "# append history info\n",
    "data_df, user_his = _append_history_info(data_df)"
   ]
  },
  {
   "cell_type": "code",
   "execution_count": 15,
   "id": "2f0013a3",
   "metadata": {
    "scrolled": false
   },
   "outputs": [],
   "source": [
    "# define model and dataset\n",
    "Recommender = GRU4Rec(n_items = n_items, model_path = \"./GRU4Rec.pt\")\n",
    "Recommender.to(device)\n",
    "dataset_dict = dict()\n",
    "for key in data_df:\n",
    "    dataset_dict[key] = RecDataset(data_df[key], n_items, test_all=True, phase='dev',user_his=user_his,\n",
    "                                  clicked_set=train_clicked_set)"
   ]
  },
  {
   "cell_type": "code",
   "execution_count": 16,
   "id": "8f3db314",
   "metadata": {
    "scrolled": true
   },
   "outputs": [
    {
     "name": "stderr",
     "output_type": "stream",
     "text": [
      "Optimizer: Adam\n",
      "Epoch 0  : 100%|████████████████████████████████████████████████| 1717/1717 [00:23<00:00, 73.13it/s]\n",
      "Predict: 100%|███████████████████████████████████████████████████| 343/343 [00:03<00:00, 101.54it/s]\n",
      "Epoch 1     loss=0.5637, dev HR@100=(0.1342) *\n",
      "Epoch 1  : 100%|████████████████████████████████████████████████| 1717/1717 [00:26<00:00, 63.99it/s]\n",
      "Predict: 100%|████████████████████████████████████████████████████| 343/343 [00:03<00:00, 97.13it/s]\n",
      "Epoch 2     loss=0.4802, dev HR@100=(0.2002) *\n",
      "Epoch 2  : 100%|████████████████████████████████████████████████| 1717/1717 [00:28<00:00, 59.31it/s]\n",
      "Predict: 100%|████████████████████████████████████████████████████| 343/343 [00:03<00:00, 96.85it/s]\n",
      "Epoch 3     loss=0.4381, dev HR@100=(0.2171) *\n",
      "Epoch 3  : 100%|████████████████████████████████████████████████| 1717/1717 [00:28<00:00, 60.76it/s]\n",
      "Predict: 100%|████████████████████████████████████████████████████| 343/343 [00:03<00:00, 96.44it/s]\n",
      "Epoch 4     loss=0.4077, dev HR@100=(0.2263) *\n",
      "Epoch 4  : 100%|████████████████████████████████████████████████| 1717/1717 [00:29<00:00, 58.87it/s]\n",
      "Predict: 100%|████████████████████████████████████████████████████| 343/343 [00:03<00:00, 96.73it/s]\n",
      "Epoch 5     loss=0.3816, dev HR@100=(0.2302) *\n",
      "Epoch 5  : 100%|████████████████████████████████████████████████| 1717/1717 [00:28<00:00, 61.02it/s]\n",
      "Predict: 100%|████████████████████████████████████████████████████| 343/343 [00:03<00:00, 97.74it/s]\n",
      "Epoch 6     loss=0.3564, dev HR@100=(0.2349) *\n",
      "Epoch 6  : 100%|████████████████████████████████████████████████| 1717/1717 [00:28<00:00, 60.56it/s]\n",
      "Predict: 100%|████████████████████████████████████████████████████| 343/343 [00:03<00:00, 95.38it/s]\n",
      "Epoch 7     loss=0.3318, dev HR@100=(0.2314)\n",
      "Epoch 7  : 100%|████████████████████████████████████████████████| 1717/1717 [00:29<00:00, 58.94it/s]\n",
      "Predict: 100%|████████████████████████████████████████████████████| 343/343 [00:03<00:00, 97.50it/s]\n",
      "Epoch 8     loss=0.3083, dev HR@100=(0.2263)\n",
      "Epoch 8  : 100%|████████████████████████████████████████████████| 1717/1717 [00:24<00:00, 68.95it/s]\n",
      "Predict: 100%|████████████████████████████████████████████████████| 343/343 [00:03<00:00, 97.76it/s]\n",
      "Epoch 9     loss=0.2869, dev HR@100=(0.2229)\n",
      "Epoch 9  : 100%|████████████████████████████████████████████████| 1717/1717 [00:24<00:00, 70.74it/s]\n",
      "Predict: 100%|████████████████████████████████████████████████████| 343/343 [00:03<00:00, 96.92it/s]\n",
      "Epoch 10    loss=0.2675, dev HR@100=(0.2185)\n",
      "Epoch 10 : 100%|████████████████████████████████████████████████| 1717/1717 [00:28<00:00, 61.30it/s]\n",
      "Predict: 100%|████████████████████████████████████████████████████| 343/343 [00:03<00:00, 97.14it/s]\n",
      "Epoch 11    loss=0.2492, dev HR@100=(0.2143)\n",
      "Epoch 11 : 100%|████████████████████████████████████████████████| 1717/1717 [00:23<00:00, 72.90it/s]\n",
      "Predict: 100%|████████████████████████████████████████████████████| 343/343 [00:03<00:00, 97.37it/s]\n",
      "Epoch 12    loss=0.2324, dev HR@100=(0.2097)\n",
      "Epoch 12 : 100%|████████████████████████████████████████████████| 1717/1717 [00:23<00:00, 72.64it/s]\n",
      "Predict: 100%|███████████████████████████████████████████████████| 343/343 [00:03<00:00, 101.54it/s]\n",
      "Epoch 13    loss=0.2168, dev HR@100=(0.2074)\n",
      "Epoch 13 : 100%|████████████████████████████████████████████████| 1717/1717 [00:25<00:00, 68.15it/s]\n",
      "Predict: 100%|████████████████████████████████████████████████████| 343/343 [00:03<00:00, 97.60it/s]\n",
      "Epoch 14    loss=0.2025, dev HR@100=(0.2057)\n",
      "Epoch 14 : 100%|████████████████████████████████████████████████| 1717/1717 [00:27<00:00, 62.17it/s]\n",
      "Predict: 100%|████████████████████████████████████████████████████| 343/343 [00:03<00:00, 97.02it/s]\n",
      "Epoch 15    loss=0.1899, dev HR@100=(0.1986)\n",
      "Epoch 15 : 100%|████████████████████████████████████████████████| 1717/1717 [00:27<00:00, 61.86it/s]\n",
      "Predict: 100%|████████████████████████████████████████████████████| 343/343 [00:03<00:00, 98.14it/s]\n",
      "Epoch 16    loss=0.1785, dev HR@100=(0.1968)\n",
      "Load model from ./GRU4Rec.pt\n",
      "Predict: 100%|████████████████████████████████████████████████████| 343/343 [00:03<00:00, 99.74it/s]\n"
     ]
    }
   ],
   "source": [
    "# Start training!\n",
    "main_metric_results = []\n",
    "for epoch in range(EPOCH):\n",
    "    gc.collect()\n",
    "    torch.cuda.empty_cache()\n",
    "    train_loss = rec_fit(Recommender, dataset_dict['train'], loss_fn=BPR_loss, epoch=epoch)\n",
    "    dev_eval = rec_evaluate(Recommender, dataset_dict['dev'], MAIN_METRIC).mean()\n",
    "    main_metric_results.append(dev_eval)\n",
    "    logging_str = 'Epoch {:<5} loss={:<.4f}, dev {}=({:<.4f})'.format(epoch + 1, train_loss, MAIN_METRIC, dev_eval)\n",
    "    if max(main_metric_results) == main_metric_results[-1]:\n",
    "        Recommender.save_model()\n",
    "        logging_str += ' *'\n",
    "    logging.info(logging_str)\n",
    "    if len(main_metric_results)-np.argmax(main_metric_results)>EARLY_STOP:\n",
    "        break\n",
    "Recommender.load_model()\n",
    "\n",
    "# Get failure counts\n",
    "rec_failure_cnts = rec_evaluate(Recommender, dataset_dict['test'], 'ranking')"
   ]
  },
  {
   "cell_type": "markdown",
   "id": "4442dd20",
   "metadata": {},
   "source": [
    "# Test intelligence"
   ]
  },
  {
   "cell_type": "code",
   "execution_count": 17,
   "id": "09ae9c1c",
   "metadata": {
    "scrolled": true
   },
   "outputs": [
    {
     "data": {
      "image/png": "[encoded data removed]",
      "text/plain": [
       "<Figure size 432x288 with 1 Axes>"
      ]
     },
     "metadata": {
      "needs_background": "light"
     },
     "output_type": "display_data"
    }
   ],
   "source": [
    "import matplotlib.pyplot as plt\n",
    "import numpy as np\n",
    "plt.rcParams['font.family'] = 'DejaVu Sans'\n",
    "\n",
    "frequency = np.zeros(max(rec_failure_cnts) + 1)\n",
    "\n",
    "for cnt in rec_failure_cnts:\n",
    "    if cnt > 0 and cnt < len(frequency):\n",
    "        frequency[cnt] += 1\n",
    "\n",
    "plt.figure(figsize=(6, 4))\n",
    "\n",
    "x = np.array(range(1, max(rec_failure_cnts) + 1))\n",
    "# Plot histogram\n",
    "plt.scatter(x, frequency[x], color=\"dodgerblue\", s=10, label=\"AI\")\n",
    "\n",
    "y1 = (x.astype(np.float32))**-2 * frequency[1]\n",
    "y2 = (x.astype(np.float32))**-3 * frequency[1]\n",
    "\n",
    "# Draw two boundary lines # label=r'$y \\propto x^{-2}$',# label=r'$y \\propto x^{-3}$',\n",
    "plt.plot(x, y1,  color='green', linestyle='--', alpha=0.5) \n",
    "plt.plot(x, y2,  color='orange', linestyle='-.', alpha=0.5) \n",
    "\n",
    "# Fill different regions between the curves\n",
    "plt.fill_between(x, frequency[1], y1, color='gray', alpha=0.1, label=\"Limited\", edgecolor=\"black\")\n",
    "plt.fill_between(x, y1, y2, color='green', alpha=0.1, hatch='+', label=\"Capable\", edgecolor=\"black\")\n",
    "plt.fill_between(x, y2,0, color='orange', alpha=0.1, hatch='.', label=\"Autonomous\", edgecolor=\"black\")\n",
    "\n",
    "# Set x-axis to log scale\n",
    "plt.xscale('log')\n",
    "# Set y-axis to log scale\n",
    "plt.yscale('log')\n",
    "\n",
    "# Set labels and title\n",
    "plt.xlabel('Number of Failures (log scale)', fontsize=14)\n",
    "plt.ylabel('Frequency (log scale)', fontsize=14)\n",
    "plt.title(f'Recommendation', fontsize=16)\n",
    "\n",
    "plt.tight_layout()\n",
    "\n",
    "plt.legend(loc='upper right')\n",
    "\n",
    "# set ylim lower bound to min(frequency)\n",
    "plt.ylim(bottom=min(frequency[frequency > 0] / 2))\n",
    "\n",
    "plt.show()"
   ]
  }
 ],
 "metadata": {
  "kernelspec": {
   "display_name": "Python 3",
   "language": "python",
   "name": "python3"
  },
  "language_info": {
   "codemirror_mode": {
    "name": "ipython",
    "version": 3
   },
   "file_extension": ".py",
   "mimetype": "text/x-python",
   "name": "python",
   "nbconvert_exporter": "python",
   "pygments_lexer": "ipython3",
   "version": "3.6.13"
  }
 },
 "nbformat": 4,
 "nbformat_minor": 5
}
